{
  "cells": [
    {
      "cell_type": "markdown",
      "metadata": {
        "id": "view-in-github",
        "colab_type": "text"
      },
      "source": [
        "<a href=\"https://colab.research.google.com/github/PrabathBK/Reinforcement-Learning/blob/main/Reinforcement_With_gym.ipynb\" target=\"_parent\"><img src=\"https://colab.research.google.com/assets/colab-badge.svg\" alt=\"Open In Colab\"/></a>"
      ]
    },
    {
      "cell_type": "code",
      "execution_count": 23,
      "id": "4d8815ba",
      "metadata": {
        "id": "4d8815ba"
      },
      "outputs": [],
      "source": [
        "# !pip install gym\n",
        "# https://www.gocoder.one/blog/rl-tutorial-with-openai-gym/\n",
        "# 500 states and 6 actions\n",
        "\n",
        "# env = gym.make(\"Taxi-v3\", render_mode='human').env\n",
        "# env.reset()\n",
        "# env.render()"
      ]
    },
    {
      "cell_type": "code",
      "execution_count": 28,
      "id": "41146296",
      "metadata": {
        "id": "41146296"
      },
      "outputs": [],
      "source": [
        "import gym\n",
        "import numpy as np\n",
        "\n",
        "\n",
        "# used to help with visualizing in Colab\n",
        "from IPython.display import display, clear_output\n",
        "from time import sleep"
      ]
    },
    {
      "cell_type": "code",
      "execution_count": 29,
      "id": "85092559",
      "metadata": {
        "id": "85092559"
      },
      "outputs": [],
      "source": [
        "# env = gym.make(\"Taxi-v3\", render_mode='human').env\n",
        "# env.reset()\n",
        "# env.render()env=gym.make(\"Taxi-v3\").env"
      ]
    },
    {
      "cell_type": "code",
      "execution_count": 30,
      "id": "c673f1fc",
      "metadata": {
        "colab": {
          "base_uri": "https://localhost:8080/"
        },
        "id": "c673f1fc",
        "outputId": "eea4eeee-f981-4b2a-d78e-de3a3d935f2f"
      },
      "outputs": [
        {
          "output_type": "execute_result",
          "data": {
            "text/plain": [
              "346"
            ]
          },
          "metadata": {},
          "execution_count": 30
        }
      ],
      "source": [
        "env.reset()"
      ]
    },
    {
      "cell_type": "code",
      "source": [
        "env.render()"
      ],
      "metadata": {
        "id": "oYhJV9RaoiRI"
      },
      "id": "oYhJV9RaoiRI",
      "execution_count": 31,
      "outputs": []
    },
    {
      "cell_type": "code",
      "execution_count": 32,
      "id": "78c3e624",
      "metadata": {
        "id": "78c3e624",
        "colab": {
          "base_uri": "https://localhost:8080/"
        },
        "outputId": "c1e0871f-b92c-409e-e523-b04b76b89a80"
      },
      "outputs": [
        {
          "output_type": "stream",
          "name": "stdout",
          "text": [
            "500\n",
            "6\n"
          ]
        },
        {
          "output_type": "stream",
          "name": "stderr",
          "text": [
            "/usr/local/lib/python3.10/dist-packages/ipykernel/ipkernel.py:283: DeprecationWarning: `should_run_async` will not call `transform_cell` automatically in the future. Please pass the result to `transformed_cell` argument and any exception that happen during thetransform in `preprocessing_exc_tuple` in IPython 7.17 and above.\n",
            "  and should_run_async(code)\n"
          ]
        }
      ],
      "source": [
        "print(env.observation_space.n)\n",
        "print(env.action_space.n)"
      ]
    },
    {
      "cell_type": "code",
      "execution_count": 34,
      "id": "010f8f4e",
      "metadata": {
        "id": "010f8f4e",
        "colab": {
          "base_uri": "https://localhost:8080/"
        },
        "outputId": "c02ff69c-7bf1-4d5d-eb09-c7d1ceb5cdf3"
      },
      "outputs": [
        {
          "output_type": "stream",
          "name": "stderr",
          "text": [
            "/usr/local/lib/python3.10/dist-packages/ipykernel/ipkernel.py:283: DeprecationWarning: `should_run_async` will not call `transform_cell` automatically in the future. Please pass the result to `transformed_cell` argument and any exception that happen during thetransform in `preprocessing_exc_tuple` in IPython 7.17 and above.\n",
            "  and should_run_async(code)\n"
          ]
        }
      ],
      "source": [
        "#Setup HyperParameters\n",
        "alpha=0.1\n",
        "gamma=0.6\n",
        "epsilon=0.1"
      ]
    },
    {
      "cell_type": "code",
      "source": [
        "#initialize Q table\n",
        "qTable=np.zeros([env.observation_space.n,env.action_space.n])\n",
        "qTable\n"
      ],
      "metadata": {
        "colab": {
          "base_uri": "https://localhost:8080/"
        },
        "id": "15MO3CMypq_T",
        "outputId": "730cc348-a4b7-44d7-966c-0e0befd2dfe1"
      },
      "id": "15MO3CMypq_T",
      "execution_count": 35,
      "outputs": [
        {
          "output_type": "stream",
          "name": "stderr",
          "text": [
            "/usr/local/lib/python3.10/dist-packages/ipykernel/ipkernel.py:283: DeprecationWarning: `should_run_async` will not call `transform_cell` automatically in the future. Please pass the result to `transformed_cell` argument and any exception that happen during thetransform in `preprocessing_exc_tuple` in IPython 7.17 and above.\n",
            "  and should_run_async(code)\n"
          ]
        },
        {
          "output_type": "execute_result",
          "data": {
            "text/plain": [
              "array([[0., 0., 0., 0., 0., 0.],\n",
              "       [0., 0., 0., 0., 0., 0.],\n",
              "       [0., 0., 0., 0., 0., 0.],\n",
              "       ...,\n",
              "       [0., 0., 0., 0., 0., 0.],\n",
              "       [0., 0., 0., 0., 0., 0.],\n",
              "       [0., 0., 0., 0., 0., 0.]])"
            ]
          },
          "metadata": {},
          "execution_count": 35
        }
      ]
    },
    {
      "cell_type": "code",
      "source": [
        "qTable.shape"
      ],
      "metadata": {
        "colab": {
          "base_uri": "https://localhost:8080/"
        },
        "id": "Q5NoDp0Ap-MX",
        "outputId": "deb947dd-b56a-4d92-c987-893389e6d64a"
      },
      "id": "Q5NoDp0Ap-MX",
      "execution_count": 36,
      "outputs": [
        {
          "output_type": "stream",
          "name": "stderr",
          "text": [
            "/usr/local/lib/python3.10/dist-packages/ipykernel/ipkernel.py:283: DeprecationWarning: `should_run_async` will not call `transform_cell` automatically in the future. Please pass the result to `transformed_cell` argument and any exception that happen during thetransform in `preprocessing_exc_tuple` in IPython 7.17 and above.\n",
            "  and should_run_async(code)\n"
          ]
        },
        {
          "output_type": "execute_result",
          "data": {
            "text/plain": [
              "(500, 6)"
            ]
          },
          "metadata": {},
          "execution_count": 36
        }
      ]
    },
    {
      "cell_type": "code",
      "source": [
        "#train Q table\n",
        "state=env.reset()\n",
        "action_mask = env.action_mask(state)\n",
        "prob=env.P[state]\n",
        "print(prob)\n",
        "print(state)\n",
        "print(action_mask)"
      ],
      "metadata": {
        "colab": {
          "base_uri": "https://localhost:8080/"
        },
        "id": "foTKYjO2qDou",
        "outputId": "4d4b1f9a-542e-4c8a-f46c-6c7cfc0aae3a"
      },
      "id": "foTKYjO2qDou",
      "execution_count": 47,
      "outputs": [
        {
          "output_type": "stream",
          "name": "stdout",
          "text": [
            "{0: [(1.0, 362, -1, False)], 1: [(1.0, 162, -1, False)], 2: [(1.0, 282, -1, False)], 3: [(1.0, 242, -1, False)], 4: [(1.0, 262, -10, False)], 5: [(1.0, 262, -10, False)]}\n",
            "262\n",
            "[1 1 1 1 0 0]\n"
          ]
        }
      ]
    },
    {
      "cell_type": "code",
      "source": [
        "\n"
      ],
      "metadata": {
        "id": "WUXzf1QrqxaU"
      },
      "id": "WUXzf1QrqxaU",
      "execution_count": 44,
      "outputs": []
    },
    {
      "cell_type": "code",
      "source": [],
      "metadata": {
        "id": "G-zuaM5urkh5"
      },
      "id": "G-zuaM5urkh5",
      "execution_count": null,
      "outputs": []
    }
  ],
  "metadata": {
    "kernelspec": {
      "display_name": "Python 3 (ipykernel)",
      "language": "python",
      "name": "python3"
    },
    "language_info": {
      "codemirror_mode": {
        "name": "ipython",
        "version": 3
      },
      "file_extension": ".py",
      "mimetype": "text/x-python",
      "name": "python",
      "nbconvert_exporter": "python",
      "pygments_lexer": "ipython3",
      "version": "3.9.13"
    },
    "colab": {
      "provenance": [],
      "include_colab_link": true
    }
  },
  "nbformat": 4,
  "nbformat_minor": 5
}