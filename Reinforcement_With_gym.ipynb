{
  "cells": [
    {
      "cell_type": "markdown",
      "metadata": {
        "id": "view-in-github",
        "colab_type": "text"
      },
      "source": [
        "<a href=\"https://colab.research.google.com/github/PrabathBK/Reinforcement-Learning/blob/main/Reinforcement_With_gym.ipynb\" target=\"_parent\"><img src=\"https://colab.research.google.com/assets/colab-badge.svg\" alt=\"Open In Colab\"/></a>"
      ]
    },
    {
      "cell_type": "code",
      "execution_count": 1,
      "id": "4d8815ba",
      "metadata": {
        "id": "4d8815ba"
      },
      "outputs": [],
      "source": [
        "# !pip install gym\n",
        "# https://www.gocoder.one/blog/rl-tutorial-with-openai-gym/\n",
        "# 500 states and 6 actions\n",
        "\n",
        "# env = gym.make(\"Taxi-v3\", render_mode='human').env\n",
        "# env.reset()\n",
        "# env.render()"
      ]
    },
    {
      "cell_type": "code",
      "execution_count": 2,
      "id": "41146296",
      "metadata": {
        "id": "41146296"
      },
      "outputs": [],
      "source": [
        "import gym\n",
        "import numpy as np\n",
        "\n",
        "\n",
        "# used to help with visualizing in Colab\n",
        "from IPython.display import display, clear_output\n",
        "from time import sleep"
      ]
    },
    {
      "cell_type": "code",
      "execution_count": 6,
      "id": "85092559",
      "metadata": {
        "id": "85092559",
        "outputId": "91bfb34c-a430-4fd2-d02a-59fa4af76968",
        "colab": {
          "base_uri": "https://localhost:8080/"
        }
      },
      "outputs": [
        {
          "output_type": "stream",
          "name": "stderr",
          "text": [
            "/usr/local/lib/python3.10/dist-packages/gym/core.py:317: DeprecationWarning: \u001b[33mWARN: Initializing wrapper in old step API which returns one bool instead of two. It is recommended to set `new_step_api=True` to use new step API. This will be the default behaviour in future.\u001b[0m\n",
            "  deprecation(\n",
            "/usr/local/lib/python3.10/dist-packages/gym/wrappers/step_api_compatibility.py:39: DeprecationWarning: \u001b[33mWARN: Initializing environment in old step API which returns one bool instead of two. It is recommended to set `new_step_api=True` to use new step API. This will be the default behaviour in future.\u001b[0m\n",
            "  deprecation(\n"
          ]
        }
      ],
      "source": [
        "# env = gym.make(\"Taxi-v3\", render_mode='human').env\n",
        "# env.reset()\n",
        "# env.render()"
      ]
    },
    {
      "cell_type": "code",
      "execution_count": 7,
      "id": "c673f1fc",
      "metadata": {
        "colab": {
          "base_uri": "https://localhost:8080/"
        },
        "id": "c673f1fc",
        "outputId": "66ad8a45-a600-4e6e-afea-f3e71ce21e00"
      },
      "outputs": [
        {
          "output_type": "execute_result",
          "data": {
            "text/plain": [
              "31"
            ]
          },
          "metadata": {},
          "execution_count": 7
        }
      ],
      "source": [
        "env=gym.make(\"Taxi-v3\").env\n",
        "env.reset()"
      ]
    },
    {
      "cell_type": "code",
      "source": [
        "env.render()"
      ],
      "metadata": {
        "id": "oYhJV9RaoiRI",
        "outputId": "b3bae6ec-6ef6-48d5-b14d-23bab78c4862",
        "colab": {
          "base_uri": "https://localhost:8080/"
        }
      },
      "id": "oYhJV9RaoiRI",
      "execution_count": 8,
      "outputs": [
        {
          "output_type": "stream",
          "name": "stderr",
          "text": [
            "/usr/local/lib/python3.10/dist-packages/gym/core.py:49: DeprecationWarning: \u001b[33mWARN: You are calling render method, but you didn't specified the argument render_mode at environment initialization. To maintain backward compatibility, the environment will render in human mode.\n",
            "If you want to render in human mode, initialize the environment in this way: gym.make('EnvName', render_mode='human') and don't call the render method.\n",
            "See here for more information: https://www.gymlibrary.ml/content/api/\u001b[0m\n",
            "  deprecation(\n"
          ]
        }
      ]
    },
    {
      "cell_type": "code",
      "execution_count": 9,
      "id": "78c3e624",
      "metadata": {
        "id": "78c3e624",
        "colab": {
          "base_uri": "https://localhost:8080/"
        },
        "outputId": "bc53e1d6-0e5e-471a-b498-5ce94233f3d6"
      },
      "outputs": [
        {
          "output_type": "stream",
          "name": "stdout",
          "text": [
            "500\n",
            "6\n"
          ]
        }
      ],
      "source": [
        "print(env.observation_space.n)\n",
        "print(env.action_space.n)"
      ]
    },
    {
      "cell_type": "code",
      "execution_count": 10,
      "id": "010f8f4e",
      "metadata": {
        "id": "010f8f4e"
      },
      "outputs": [],
      "source": [
        "#Setup HyperParameters\n",
        "alpha=0.1\n",
        "gamma=0.6\n",
        "epsilon=0.1"
      ]
    },
    {
      "cell_type": "code",
      "source": [
        "#initialize Q table\n",
        "qTable=np.zeros([env.observation_space.n,env.action_space.n])\n",
        "qTable\n"
      ],
      "metadata": {
        "colab": {
          "base_uri": "https://localhost:8080/"
        },
        "id": "15MO3CMypq_T",
        "outputId": "74eab85f-31c5-4a9d-d9cd-451e631cd868"
      },
      "id": "15MO3CMypq_T",
      "execution_count": 11,
      "outputs": [
        {
          "output_type": "execute_result",
          "data": {
            "text/plain": [
              "array([[0., 0., 0., 0., 0., 0.],\n",
              "       [0., 0., 0., 0., 0., 0.],\n",
              "       [0., 0., 0., 0., 0., 0.],\n",
              "       ...,\n",
              "       [0., 0., 0., 0., 0., 0.],\n",
              "       [0., 0., 0., 0., 0., 0.],\n",
              "       [0., 0., 0., 0., 0., 0.]])"
            ]
          },
          "metadata": {},
          "execution_count": 11
        }
      ]
    },
    {
      "cell_type": "code",
      "source": [
        "qTable.shape"
      ],
      "metadata": {
        "colab": {
          "base_uri": "https://localhost:8080/"
        },
        "id": "Q5NoDp0Ap-MX",
        "outputId": "0bba24ee-e505-45a4-e543-ff88c9c80627"
      },
      "id": "Q5NoDp0Ap-MX",
      "execution_count": 12,
      "outputs": [
        {
          "output_type": "execute_result",
          "data": {
            "text/plain": [
              "(500, 6)"
            ]
          },
          "metadata": {},
          "execution_count": 12
        }
      ]
    },
    {
      "cell_type": "code",
      "source": [
        "#train Q table\n",
        "state=env.reset()\n",
        "action_mask = env.action_mask(state)\n",
        "prob=env.P[state]\n",
        "print(prob)\n",
        "print(state)\n",
        "print(action_mask)"
      ],
      "metadata": {
        "colab": {
          "base_uri": "https://localhost:8080/"
        },
        "id": "foTKYjO2qDou",
        "outputId": "d4484893-95ed-4c76-afc2-933078cf3ef7"
      },
      "id": "foTKYjO2qDou",
      "execution_count": 25,
      "outputs": [
        {
          "output_type": "stream",
          "name": "stdout",
          "text": [
            "{0: [(1.0, 146, -1, False)], 1: [(1.0, 46, -1, False)], 2: [(1.0, 66, -1, False)], 3: [(1.0, 46, -1, False)], 4: [(1.0, 46, -10, False)], 5: [(1.0, 46, -10, False)]}\n",
            "46\n",
            "[1 0 1 0 0 0]\n"
          ]
        }
      ]
    },
    {
      "cell_type": "code",
      "source": [
        "next_state,reward,terminated,info1=env.step(env.action_space.sample())\n",
        "print(next_state,\"/\",reward,\"/\",terminated,\"/\",info1)"
      ],
      "metadata": {
        "id": "WUXzf1QrqxaU",
        "outputId": "13ef8e46-ac15-4232-8b14-38e7b8f5c72f",
        "colab": {
          "base_uri": "https://localhost:8080/"
        }
      },
      "id": "WUXzf1QrqxaU",
      "execution_count": 26,
      "outputs": [
        {
          "output_type": "stream",
          "name": "stdout",
          "text": [
            "46 / -10 / False / {'prob': 1.0, 'action_mask': array([1, 0, 1, 0, 0, 0], dtype=int8)}\n"
          ]
        }
      ]
    },
    {
      "cell_type": "code",
      "source": [
        "num_of_espisodes=100\n",
        "for episode in range(num_of_espisodes):\n",
        "  #reset the environment\n",
        "  state=env.reset()\n",
        "\n",
        "  #initialize variable\n",
        "  reward=0\n",
        "  terminated= False\n",
        "\n",
        "  while not terminated:\n",
        "    # action=env.action_space.sample();\n",
        "    # action = np.argmax(qTable[state])\n",
        "\n",
        "    #Take Learned path or explore new actons based on the epsioln\n",
        "    if np.random.uniform(0,1)<epsilon:\n",
        "      action=env.action_space.sample()\n",
        "    else:\n",
        "      action=np.argmax(qTable[state])\n",
        "\n",
        "\n",
        "    # print(action,end=\",\")\n",
        "    #Take action\n",
        "    next_state,reward,terminated,info1=env.step(action)\n",
        "\n",
        "    #recalculate\n",
        "    q_value=qTable[state,action]\n",
        "    max_value=np.max(qTable[next_state])\n",
        "    new_q_value=(1-alpha)*q_value+alpha*(reward+gamma*max_value)\n",
        "\n",
        "    #Update Q table\n",
        "    qTable[state,action]=new_q_value\n",
        "    state=[next_state]\n",
        "\n",
        "\n",
        "\n"
      ],
      "metadata": {
        "id": "G-zuaM5urkh5",
        "outputId": "dc149b69-93c8-4f63-b3a7-1070574d79f4",
        "colab": {
          "base_uri": "https://localhost:8080/"
        }
      },
      "id": "G-zuaM5urkh5",
      "execution_count": 40,
      "outputs": [
        {
          "output_type": "stream",
          "name": "stdout",
          "text": [
            "2,1,1,3,3,3,3,0,0,4,1,1,3,2,2,1,1,2,2,5,1,2,4,0,0,0,0,3,5,4,0,2,0,2,2,0,0,5,1,1,1,1,2,2,4,0,0,0,0,3,5,3,0,0,3,3,0,0,4,1,1,1,1,5,0,3,3,2,3,3,3,1,1,4,0,2,0,2,1,1,2,2,5,1,0,3,3,3,3,0,0,4,1,1,2,2,1,1,2,2,3,2,5,1,2,2,0,0,4,1,1,1,1,2,5,3,3,0,0,3,1,3,0,0,0,0,4,1,1,2,1,4,0,2,2,0,0,5,2,2,0,0,4,3,1,1,3,3,3,0,0,5,3,2,0,0,2,1,1,2,2,4,0,0,0,0,3,5,0,3,0,4,1,1,3,3,3,0,0,5,0,3,0,1,3,1,1,2,3,4,0,0,0,0,5,3,3,1,1,3,4,0,2,0,2,2,0,0,5,3,3,3,4,0,0,4,1,1,3,2,2,2,0,0,4,5,0,0,4,1,1,3,3,3,1,1,5,1,3,3,0,4,0,4,1,1,2,2,1,1,2,2,5,4,0,0,0,0,3,5,3,4,3,3,1,1,4,0,2,0,2,1,1,2,2,5,2,1,1,4,0,0,3,3,3,3,0,0,5,1,3,3,4,0,2,0,3,0,0,5,3,5,1,3,1,1,4,0,0,0,0,5,1,1,1,1,2,4,0,0,0,0,2,3,5,2,2,4,0,0,3,3,3,3,0,0,5,3,0,0,3,3,1,1,4,0,2,0,2,1,1,2,2,5,1,4,3,3,0,0,5,4,1,1,2,2,1,1,2,2,5,1,3,1,3,3,3,2,3,0,1,1,1,4,0,0,0,0,5,4,1,1,3,0,3,1,3,1,1,5,0,3,0,3,3,3,1,1,4,0,0,0,0,5,0,3,0,0,3,4,1,1,3,3,3,1,1,5,2,0,0,4,1,1,3,3,3,1,1,5,1,1,3,3,4,3,0,0,4,1,1,2,2,3,2,2,0,0,5,3,3,3,0,0,4,1,1,2,2,2,0,0,5,3,3,0,0,4,1,1,0,1,2,2,2,0,4,0,5,0,0,3,3,0,0,4,1,1,2,2,1,2,0,0,0,5,0,3,0,4,1,5,4,1,3,3,3,0,0,5,2,3,2,2,4,4,0,0,3,3,3,3,0,0,5,1,2,4,0,0,0,0,3,4,5,1,2,1,1,0,1,4,3,1,0,3,0,3,3,1,1,5,1,2,2,0,0,4,1,1,3,3,3,0,0,5,0,0,2,2,0,5,0,4,1,1,3,3,3,1,1,5,5,2,2,4,0,0,3,3,3,3,0,5,0,5,2,4,3,0,3,0,3,3,1,1,5,0,2,0,2,2,2,1,1,1,4,3,0,4,3,0,3,3,1,1,5,1,0,1,2,1,1,4,3,0,3,0,3,3,1,1,5,3,0,0,3,1,1,3,4,0,2,0,2,2,0,0,5,0,0,4,1,1,3,4,5,3,3,0,0,5,0,2,3,2,2,2,0,0,4,1,1,1,1,2,5,0,0,1,0,4,1,1,3,3,3,0,0,5,0,3,1,1,3,4,0,2,0,2,2,0,0,5,3,1,1,3,4,1,0,2,2,0,2,2,0,0,2,3,5,1,3,1,3,1,1,0,1,4,0,0,0,0,5,0,3,3,3,3,0,0,4,1,1,1,1,5,0,4,1,1,3,3,3,0,0,5,3,4,1,4,1,4,0,0,0,0,5,1,1,2,2,2,0,2,0,3,4,1,1,1,1,2,5,4,1,1,3,3,3,1,1,5,1,3,1,3,1,1,2,3,4,0,0,0,0,5,1,2,2,2,0,0,4,1,1,1,1,2,5,3,3,0,0,3,3,1,1,4,0,2,0,5,2,0,1,1,0,1,1,2,2,5,1,4,0,2,0,3,1,0,0,0,5,0,3,3,1,1,3,4,0,2,0,2,2,0,4,1,0,0,5,3,3,3,1,1,4,0,0,0,0,5,3,3,0,0,3,3,0,0,4,1,1,2,2,2,0,0,5,0,2,2,2,2,0,5,0,3,4,1,1,1,1,2,5,1,4,3,0,3,0,3,3,4,1,1,5,1,2,0,0,4,1,1,3,3,3,1,1,5,0,4,1,1,1,1,5,0,0,4,0,1,1,1,1,5,3,3,3,3,0,0,4,1,1,1,1,5,0,0,3,3,0,0,4,1,1,2,2,1,1,2,2,5,3,3,1,1,4,0,2,0,2,1,1,2,2,5,1,1,2,0,0,4,1,1,1,1,2,5,1,3,3,3,0,0,4,1,1,1,1,5,4,0,0,3,3,3,3,0,0,5,1,3,3,3,0,0,4,1,1,2,2,0,1,2,0,0,5,4,3,3,1,1,4,0,2,0,1,0,5,2,2,1,1,2,5,3,4,1,1,3,3,3,0,4,0,5,1,4,0,0,3,3,3,3,0,0,5,1,0,3,0,1,0,3,3,3,1,1,4,0,0,2,3,0,0,4,5,3,4,0,1,1,3,3,3,1,1,5,0,3,5,0,4,1,1,3,0,3,1,3,0,0,5,3,0,0,5,0,4,1,1,2,2,2,0,0,4,5,0,0,2,1,1,2,2,4,5,4,0,0,0,0,3,5,0,1,0,1,1,2,2,2,4,0,0,4,1,3,1,1,1,2,5,3,1,3,0,0,4,1,1,2,2,3,2,1,1,2,2,5,1,1,4,1,1,4,0,0,0,5,0,5,0,2,2,2,1,1,4,0,0,3,4,3,3,3,0,0,5,2,2,2,1,1,4,0,0,2,3,3,3,3,0,0,5,1,1,2,0,4,0,4,1,1,3,1,0,3,3,1,1,5,3,1,1,4,0,2,0,2,0,1,4,1,1,2,2,5,0,0,2,2,2,0,0,4,1,1,3,3,3,0,0,5,3,1,3,3,1,1,3,4,0,2,1,0,0,1,0,2,2,4,0,0,5,1,3,1,3,1,1,0,1,4,0,0,0,0,5,0,0,3,3,1,1,4,3,4,0,0,0,0,4,1,0,5,0,0,0,4,1,1,2,2,1,1,0,1,2,2,5,0,0,2,2,2,2,1,1,4,0,0,3,3,3,1,0,3,0,0,5,4,4,3,1,1,3,3,3,1,1,5,4,0,0,0,0,5,1,3,2,3,3,3,0,3,0,4,1,5,1,2,2,2,0,0,5,1,2,4,3,0,3,0,3,3,1,0,1,1,5,"
          ]
        }
      ]
    },
    {
      "cell_type": "code",
      "source": [
        "print(qTable)"
      ],
      "metadata": {
        "id": "UWspXoW5ltW0",
        "outputId": "84e813fa-52ca-480b-bc5d-48bd3af141e9",
        "colab": {
          "base_uri": "https://localhost:8080/"
        }
      },
      "id": "UWspXoW5ltW0",
      "execution_count": 39,
      "outputs": [
        {
          "output_type": "stream",
          "name": "stdout",
          "text": [
            "[[  0.           0.           0.           0.           0.\n",
            "    0.        ]\n",
            " [ -2.42908902  -2.37614621  -2.42892392  -2.37700996  -2.2811067\n",
            "  -11.37751806]\n",
            " [ -1.92067408  -1.51070428  -1.92510862  -1.50255347  -0.76678732\n",
            "  -10.50431153]\n",
            " ...\n",
            " [ -0.80093099   0.34710933  -0.81127612  -1.48649638  -9.805245\n",
            "   -9.8058528 ]\n",
            " [ -2.29446332  -2.15151312  -2.29618947  -2.15405249 -11.29398393\n",
            "  -11.29569643]\n",
            " [  5.5180289    2.28187088   5.53244154  10.99798876  -3.4724908\n",
            "   -3.4791925 ]]\n"
          ]
        }
      ]
    },
    {
      "cell_type": "code",
      "source": [],
      "metadata": {
        "id": "eQoFj4S4mgKv"
      },
      "id": "eQoFj4S4mgKv",
      "execution_count": null,
      "outputs": []
    }
  ],
  "metadata": {
    "kernelspec": {
      "display_name": "Python 3 (ipykernel)",
      "language": "python",
      "name": "python3"
    },
    "language_info": {
      "codemirror_mode": {
        "name": "ipython",
        "version": 3
      },
      "file_extension": ".py",
      "mimetype": "text/x-python",
      "name": "python",
      "nbconvert_exporter": "python",
      "pygments_lexer": "ipython3",
      "version": "3.9.13"
    },
    "colab": {
      "provenance": [],
      "include_colab_link": true
    }
  },
  "nbformat": 4,
  "nbformat_minor": 5
}